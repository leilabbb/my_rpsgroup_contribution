{
 "cells": [
  {
   "cell_type": "code",
   "execution_count": 19,
   "metadata": {},
   "outputs": [],
   "source": [
    "from lxml.html import parse\n",
    "import numpy as np"
   ]
  },
  {
   "cell_type": "code",
   "execution_count": 13,
   "metadata": {},
   "outputs": [],
   "source": [
    "def list_catalog(html):\n",
    "    \n",
    "    doc = parse(html).getroot()\n",
    "    list_st = []    \n",
    "    for div in doc.cssselect('a'):\n",
    "        list_i=div.text_content()\n",
    "        list_st.append(list_i)\n",
    "        \n",
    "    return list_st"
   ]
  },
  {
   "cell_type": "code",
   "execution_count": 14,
   "metadata": {},
   "outputs": [],
   "source": [
    "def check_duplicates(liste):        # check for duplicates\n",
    "    my_dict = {i:liste.count(i) for i in liste}\n",
    "    double_entries = [i for i in my_dict if my_dict[i] > 1]\n",
    "    if len(double_entries) > 0:\n",
    "        print('duplicates exist:',double_entries)\n",
    "    # remove duplicates\n",
    "    liste = np.unique(liste)\n",
    "    \n",
    "    return liste"
   ]
  },
  {
   "cell_type": "code",
   "execution_count": 15,
   "metadata": {},
   "outputs": [],
   "source": [
    "html = 'http://sos.maracoos.org/maracoos_archive/hrecos-waf/'#HRSCHD"
   ]
  },
  {
   "cell_type": "code",
   "execution_count": 21,
   "metadata": {},
   "outputs": [
    {
     "name": "stdout",
     "output_type": "stream",
     "text": [
      "['HRALBP', 'HRBZAK', 'HRLCK8', 'HRMARPH', 'HRMARPHS', 'HRNOPT', 'HRPIER84', 'HRPMNT', 'HRPR26', 'HRPVSC', 'HRREXBR', 'HRSCHD', 'HRUTICA', 'HRWSTPTH', 'STCPBY1', 'STCPPB']\n"
     ]
    }
   ],
   "source": [
    "list_st = list_catalog(html)\n",
    "list_st = [x.strip('/') for x in list_st if '/' in x]\n",
    "\n",
    "print(list_st)"
   ]
  },
  {
   "cell_type": "code",
   "execution_count": 25,
   "metadata": {},
   "outputs": [],
   "source": [
    "list_st = check_duplicates(list_st)"
   ]
  },
  {
   "cell_type": "code",
   "execution_count": 26,
   "metadata": {},
   "outputs": [
    {
     "data": {
      "text/plain": [
       "16"
      ]
     },
     "execution_count": 26,
     "metadata": {},
     "output_type": "execute_result"
    }
   ],
   "source": [
    "len(list_st)"
   ]
  },
  {
   "cell_type": "code",
   "execution_count": 11,
   "metadata": {},
   "outputs": [
    {
     "name": "stdout",
     "output_type": "stream",
     "text": [
      "HRALBP/ 101 101\n",
      "HRBZAK/ 26 127\n",
      "HRLCK8/ 170 297\n",
      "HRMARPH/ 81 378\n",
      "HRMARPHS/ 49 427\n",
      "HRNOPT/ 130 557\n",
      "HRPIER84/ 76 633\n",
      "HRPMNT/ 131 764\n",
      "HRPR26/ 17 781\n",
      "HRPVSC/ 61 842\n",
      "HRREXBR/ 56 898\n",
      "HRSCHD/ 265 1163\n",
      "HRUTICA/ 30 1193\n",
      "HRWSTPTH/ 49 1242\n",
      "STCPBY1/ 80 1322\n",
      "STCPPB/ 0 1322\n",
      "1322\n"
     ]
    }
   ],
   "source": [
    "total = 0\n",
    "for name in list_st:\n",
    "    list_nc = list_catalog(html+name)\n",
    "    list_nc = [x for x in list_nc if '.nc' in x]\n",
    "    total = total+len(list_nc)\n",
    "    print(name, len(list_nc), total)\n",
    "print(total)"
   ]
  },
  {
   "cell_type": "code",
   "execution_count": null,
   "metadata": {},
   "outputs": [],
   "source": []
  }
 ],
 "metadata": {
  "kernelspec": {
   "display_name": "Python 3",
   "language": "python",
   "name": "python3"
  },
  "language_info": {
   "codemirror_mode": {
    "name": "ipython",
    "version": 3
   },
   "file_extension": ".py",
   "mimetype": "text/x-python",
   "name": "python",
   "nbconvert_exporter": "python",
   "pygments_lexer": "ipython3",
   "version": "3.7.7"
  }
 },
 "nbformat": 4,
 "nbformat_minor": 4
}
