{
 "cells": [
  {
   "cell_type": "code",
   "execution_count": 2,
   "metadata": {},
   "outputs": [],
   "source": [
    "import xarray as xr\n",
    "from netCDF4 import Dataset\n",
    "import numpy as np\n",
    "import pandas as pd\n",
    "import requests\n",
    "from datetime import timedelta"
   ]
  },
  {
   "cell_type": "code",
   "execution_count": 125,
   "metadata": {},
   "outputs": [],
   "source": [
    "html = 'https://data.ioos.us/api/3/action/package_search?fq=organization:maracoos'\n",
    "# html = 'https://data.ioos.us/api/3/action/package_search?q=organization:maracoos'\n",
    "# html = 'https://data.ioos.us/organization/maracoos?q=erddap&sort=score+desc%2C+metadata_modified+desc&page=2'"
   ]
  },
  {
   "cell_type": "code",
   "execution_count": 127,
   "metadata": {},
   "outputs": [],
   "source": [
    "r = requests.get(html)\n",
    "data = r.json()"
   ]
  },
  {
   "cell_type": "code",
   "execution_count": 177,
   "metadata": {},
   "outputs": [
    {
     "data": {
      "text/plain": [
       "10"
      ]
     },
     "execution_count": 177,
     "metadata": {},
     "output_type": "execute_result"
    }
   ],
   "source": [
    "len(data['result']['results'])"
   ]
  },
  {
   "cell_type": "code",
   "execution_count": 175,
   "metadata": {},
   "outputs": [
    {
     "data": {
      "text/plain": [
       "dict_keys(['license_title', 'maintainer', 'relationships_as_object', 'private', 'maintainer_email', 'num_tags', 'id', 'metadata_created', 'metadata_modified', 'author', 'author_email', 'state', 'version', 'creator_user_id', 'type', 'resources', 'num_resources', 'tags', 'groups', 'license_id', 'relationships_as_subject', 'organization', 'name', 'isopen', 'url', 'notes', 'owner_org', 'extras', 'title', 'revision_id'])"
      ]
     },
     "execution_count": 175,
     "metadata": {},
     "output_type": "execute_result"
    }
   ],
   "source": [
    "data['result']['results'][0].keys()\n"
   ]
  },
  {
   "cell_type": "code",
   "execution_count": 188,
   "metadata": {},
   "outputs": [
    {
     "name": "stdout",
     "output_type": "stream",
     "text": [
      "ROMS ESPRESSO Real-Time Operational IS4DVAR Forecast System Version 2 (NEW) 2013-present FMRC Averages \n",
      "\n",
      "46767ac2-1edd-41e5-a201-6c7ff5440ad4 \n",
      "\n",
      "ROMS ESPRESSO Real-Time Operational IS4DVAR Forecast System Version 1 (OLD) 2009-2013 Averages \n",
      "\n",
      "6f607b7b-dd5b-4c53-8faf-a52d13f9140a \n",
      "\n",
      "ROMS doppio Real-Time Operational PSAS Forecast System Version 1 FMRC History \n",
      "\n",
      "107f83f7-e0ad-4f85-801e-1fb3016563f4 \n",
      "\n",
      "ROMS ESPRESSO Real-Time Operational IS4DVAR Forecast System Version 1 (OLD) 2009-2013 History \n",
      "\n",
      "8f41dcf4-466c-4504-a698-d5e534cb4537 \n",
      "\n",
      "ROMS doppio Real-Time Operational PSAS Forecast System Version 1 FMRC Averages \n",
      "\n",
      "a8f4b706-3ae3-4141-abc8-41ff6fdc32aa \n",
      "\n",
      "ROMS ESPRESSO Real-Time Operational IS4DVAR Forecast System Version 2 (NEW) 2013-present FMRC History \n",
      "\n",
      "86f84501-8ae6-4a10-b378-ab565bd7227b \n",
      "\n",
      "NERRS, Hudson River at  hudtswq \n",
      "\n",
      "4195be14-531a-4127-8794-d2bafb7a8da0 \n",
      "\n",
      "USGS, Hudson River, 01374019 \n",
      "\n",
      "84efb7e5-474c-4090-8cad-91213d3b9f36 \n",
      "\n",
      "NERRS, Hudson River at  hudnpwq \n",
      "\n",
      "97eacc08-4253-4316-82b2-d3e5660bff03 \n",
      "\n",
      "USGS, Hudson River, 01376269 \n",
      "\n",
      "a68c98eb-5101-4345-8ef2-62fd8df612a2 \n",
      "\n"
     ]
    }
   ],
   "source": [
    "for ii in range(10):\n",
    "    print(data['result']['results'][ii]['title'],'\\n')\n",
    "    print(data['result']['results'][ii]['id'],'\\n')"
   ]
  },
  {
   "cell_type": "code",
   "execution_count": 94,
   "metadata": {},
   "outputs": [
    {
     "data": {
      "text/plain": [
       "'score desc, metadata_modified desc'"
      ]
     },
     "execution_count": 94,
     "metadata": {},
     "output_type": "execute_result"
    }
   ],
   "source": [
    "params['result']['sort']"
   ]
  },
  {
   "cell_type": "code",
   "execution_count": 59,
   "metadata": {},
   "outputs": [],
   "source": [
    "yurika = params['result']['results'][0]"
   ]
  },
  {
   "cell_type": "code",
   "execution_count": 60,
   "metadata": {},
   "outputs": [
    {
     "data": {
      "text/plain": [
       "'2020-02-27T03:19:52.516492'"
      ]
     },
     "execution_count": 60,
     "metadata": {},
     "output_type": "execute_result"
    }
   ],
   "source": [
    "yurika['metadata_created']"
   ]
  },
  {
   "cell_type": "code",
   "execution_count": 61,
   "metadata": {},
   "outputs": [
    {
     "data": {
      "text/plain": [
       "'https://data.ioos.us/api/3/action/help_show?name=package_search'"
      ]
     },
     "execution_count": 61,
     "metadata": {},
     "output_type": "execute_result"
    }
   ],
   "source": [
    "params['help']"
   ]
  },
  {
   "cell_type": "code",
   "execution_count": null,
   "metadata": {},
   "outputs": [],
   "source": []
  },
  {
   "cell_type": "code",
   "execution_count": null,
   "metadata": {},
   "outputs": [],
   "source": []
  },
  {
   "cell_type": "code",
   "execution_count": null,
   "metadata": {},
   "outputs": [],
   "source": [
    "from lxml.html import parse"
   ]
  },
  {
   "cell_type": "code",
   "execution_count": 37,
   "metadata": {},
   "outputs": [],
   "source": [
    "html = 'https://data.ioos.us/dataset?organization=maracoos&res_format=SOS'"
   ]
  },
  {
   "cell_type": "code",
   "execution_count": 219,
   "metadata": {},
   "outputs": [],
   "source": [
    "html='http://sos.maracoos.org/maracoos-iso/'"
   ]
  },
  {
   "cell_type": "code",
   "execution_count": 214,
   "metadata": {},
   "outputs": [],
   "source": [
    "def list_catalog(html):\n",
    "    \n",
    "    doc = parse(html).getroot()\n",
    "    list_st = []    \n",
    "    for div in doc.cssselect('a'):\n",
    "        list_i=div.text_content()\n",
    "        list_st.append(list_i)\n",
    "        \n",
    "    return list_st"
   ]
  },
  {
   "cell_type": "code",
   "execution_count": 215,
   "metadata": {},
   "outputs": [],
   "source": [
    "def check_duplicates(liste):        # check for duplicates\n",
    "    my_dict = {i:liste.count(i) for i in liste}\n",
    "    double_entries = [i for i in my_dict if my_dict[i] > 1]\n",
    "    if len(double_entries) > 0:\n",
    "        print('duplicates exist:',double_entries)\n",
    "    # remove duplicates\n",
    "    liste = np.unique(liste)\n",
    "    \n",
    "    return liste"
   ]
  },
  {
   "cell_type": "code",
   "execution_count": 218,
   "metadata": {},
   "outputs": [
    {
     "name": "stdout",
     "output_type": "stream",
     "text": [
      "listall 495\n",
      "sldmb 408\n",
      "mddnr 31\n",
      "station 23\n",
      "surfrider 33\n",
      "495\n"
     ]
    }
   ],
   "source": [
    "list_st = [x for x in list_st if x.endswith('.xml')]\n",
    "print('listall',len(list_st))\n",
    "\n",
    "keys=['sldmb','mddnr','station','surfrider']\n",
    "\n",
    "total = 0\n",
    "for key in keys:\n",
    "    list_x = [x for x in list_st if x.startswith(key)]\n",
    "    list_x = check_duplicates(list_x)\n",
    "    print(key,len(list_x))\n",
    "    total = total+len(list_x)\n",
    "                                                 \n",
    "print(total)"
   ]
  },
  {
   "cell_type": "code",
   "execution_count": 209,
   "metadata": {},
   "outputs": [],
   "source": [
    "html = 'http://tds.maracoos.org/iso/'"
   ]
  },
  {
   "cell_type": "code",
   "execution_count": 210,
   "metadata": {},
   "outputs": [],
   "source": [
    "list_st = list_catalog(html)"
   ]
  },
  {
   "cell_type": "code",
   "execution_count": 211,
   "metadata": {},
   "outputs": [
    {
     "name": "stdout",
     "output_type": "stream",
     "text": [
      "listall 75\n",
      "AVHRR 31\n",
      "MODIS 32\n",
      "MURSST 6\n",
      "thredds 6\n",
      "75\n"
     ]
    }
   ],
   "source": [
    "list_st = [x for x in list_st if x.endswith('.xml')]\n",
    "print('listall',len(list_st))\n",
    "\n",
    "keys=['AVHRR','MODIS','MURSST','thredds']\n",
    "\n",
    "total = 0\n",
    "for key in keys:\n",
    "    list_x = [x for x in list_st if x.startswith(key)]\n",
    "    print(key,len(list_x))\n",
    "    total = total+len(list_x)\n",
    "                                                 \n",
    "print(total)"
   ]
  },
  {
   "cell_type": "code",
   "execution_count": null,
   "metadata": {},
   "outputs": [],
   "source": []
  }
 ],
 "metadata": {
  "kernelspec": {
   "display_name": "Python 3",
   "language": "python",
   "name": "python3"
  },
  "language_info": {
   "codemirror_mode": {
    "name": "ipython",
    "version": 3
   },
   "file_extension": ".py",
   "mimetype": "text/x-python",
   "name": "python",
   "nbconvert_exporter": "python",
   "pygments_lexer": "ipython3",
   "version": "3.7.7"
  }
 },
 "nbformat": 4,
 "nbformat_minor": 4
}
