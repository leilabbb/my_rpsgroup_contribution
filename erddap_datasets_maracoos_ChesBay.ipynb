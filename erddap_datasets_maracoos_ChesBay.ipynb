{
 "cells": [
  {
   "cell_type": "code",
   "execution_count": 1,
   "metadata": {},
   "outputs": [],
   "source": [
    "from erddapy import ERDDAP\n",
    "import pandas as pd\n",
    "import requests\n",
    "import numpy as np\n",
    "import xarray as xr"
   ]
  },
  {
   "cell_type": "code",
   "execution_count": 2,
   "metadata": {},
   "outputs": [],
   "source": [
    "server = 'http://erddap.maracoos.org/erddap'\n",
    "protocol = 'tabledap'"
   ]
  },
  {
   "cell_type": "code",
   "execution_count": 3,
   "metadata": {},
   "outputs": [],
   "source": [
    "e = ERDDAP(\n",
    "    server=server,\n",
    "    protocol=protocol)"
   ]
  },
  {
   "cell_type": "code",
   "execution_count": 4,
   "metadata": {},
   "outputs": [],
   "source": [
    "df = pd.read_csv(e.get_search_url(response=\"csv\", search_for=\"vims\"))"
   ]
  },
  {
   "cell_type": "code",
   "execution_count": 5,
   "metadata": {},
   "outputs": [],
   "source": [
    "df.to_csv('ERDDAP_ChesdBay_datasets.csv')"
   ]
  },
  {
   "cell_type": "code",
   "execution_count": 6,
   "metadata": {},
   "outputs": [
    {
     "data": {
      "text/plain": [
       "Index(['griddap', 'Subset', 'tabledap', 'Make A Graph', 'wms', 'files',\n",
       "       'Title', 'Summary', 'FGDC', 'ISO 19115', 'Info', 'Background Info',\n",
       "       'RSS', 'Email', 'Institution', 'Dataset ID'],\n",
       "      dtype='object')"
      ]
     },
     "execution_count": 6,
     "metadata": {},
     "output_type": "execute_result"
    }
   ],
   "source": [
    "df.keys()"
   ]
  },
  {
   "cell_type": "code",
   "execution_count": 7,
   "metadata": {},
   "outputs": [
    {
     "data": {
      "text/plain": [
       "'cbp_CB2_2.txt'"
      ]
     },
     "execution_count": 7,
     "metadata": {},
     "output_type": "execute_result"
    }
   ],
   "source": [
    "dataset_list = []\n",
    "for subset in df['Subset']:\n",
    "    dataset_list.append(subset.strip('.subset'))\n",
    "\n",
    "    # add a header before saving it to a file\n",
    "dataset_list = ['ChesB']+dataset_list\n",
    "\n",
    "filename= dataset_list[1].split('/')[-1]+'.txt'\n",
    "filename"
   ]
  },
  {
   "cell_type": "code",
   "execution_count": 8,
   "metadata": {},
   "outputs": [],
   "source": [
    "# Open a file\n",
    "fo = open('ChesBay_dataset_08-13-2020.csv', \"w\")\n",
    "# Write sequence of lines at the end of the file.\n",
    "\n",
    "line = fo.write(',\\n'.join( dataset_list ))\n",
    "# Close opend file\n",
    "fo.close()"
   ]
  },
  {
   "cell_type": "code",
   "execution_count": 9,
   "metadata": {},
   "outputs": [
    {
     "data": {
      "text/plain": [
       "'http://erddap.maracoos.org/erddap/info/cbp_CB2_2/index.nc'"
      ]
     },
     "execution_count": 9,
     "metadata": {},
     "output_type": "execute_result"
    }
   ],
   "source": [
    "e.get_info_url(dataset_id=df['Dataset ID'][0], response='nc')"
   ]
  },
  {
   "cell_type": "code",
   "execution_count": 11,
   "metadata": {},
   "outputs": [
    {
     "data": {
      "text/plain": [
       "'http://erddap.maracoos.org/erddap/tabledap/cbp_CB2_2.html?'"
      ]
     },
     "execution_count": 11,
     "metadata": {},
     "output_type": "execute_result"
    }
   ],
   "source": [
    "e.get_download_url(dataset_id=df['Dataset ID'][0])"
   ]
  },
  {
   "cell_type": "code",
   "execution_count": 12,
   "metadata": {},
   "outputs": [
    {
     "data": {
      "text/plain": [
       "Frozen(SortedKeysDict({'row': 181}))"
      ]
     },
     "execution_count": 12,
     "metadata": {},
     "output_type": "execute_result"
    }
   ],
   "source": [
    "e.dataset_id = df['Dataset ID'][93]\n",
    "ds = e.to_xarray(decode_times=False)\n",
    "ds.dims"
   ]
  },
  {
   "cell_type": "code",
   "execution_count": null,
   "metadata": {},
   "outputs": [],
   "source": [
    "def get_geophysical_variables(ds):\n",
    "    \"\"\"\n",
    "    Returns a list of variable names for the variables detected as geophysical\n",
    "    variables.\n",
    "    :param netCDF4.Dataset nc: An open netCDF dataset\n",
    "    \"\"\"\n",
    "    parameters = []\n",
    "    for variable in ds.variables:\n",
    "        if is_geophysical(ds, variable):\n",
    "            parameters.append(variable)\n",
    "    return parameters"
   ]
  },
  {
   "cell_type": "code",
   "execution_count": 36,
   "metadata": {},
   "outputs": [],
   "source": [
    "ncvar = ds['SALINITY'] #dir(ds.variables)\n",
    "# print(ncvar)\n",
    "\n"
   ]
  },
  {
   "cell_type": "code",
   "execution_count": 40,
   "metadata": {},
   "outputs": [
    {
     "data": {
      "text/plain": [
       "'sea_water_practical_salinity'"
      ]
     },
     "execution_count": 40,
     "metadata": {},
     "output_type": "execute_result"
    }
   ],
   "source": [
    "getattr(ncvar, \"standard_name\")"
   ]
  },
  {
   "cell_type": "code",
   "execution_count": null,
   "metadata": {},
   "outputs": [],
   "source": [
    "if getattr(ncvar, \"Conventions\", None):\n",
    "    print(False)\n",
    "\n",
    "# Check for axis\n",
    "if getattr(ncvar, \"axis\", None):\n",
    "    print(False)"
   ]
  },
  {
   "cell_type": "code",
   "execution_count": null,
   "metadata": {},
   "outputs": [],
   "source": [
    "standard_name = getattr(ncvar, \"standard_name\", \"\")\n",
    "if standard_name in {\n",
    "        \"time\",\n",
    "        \"latitude\",\n",
    "        \"longitude\",\n",
    "        \"height\",\n",
    "        \"depth\",\n",
    "        \"altitude\",\n",
    "    }:\n",
    "        print(False)"
   ]
  },
  {
   "cell_type": "code",
   "execution_count": null,
   "metadata": {},
   "outputs": [],
   "source": [
    "parameters = get_geophysical_variables(ds)"
   ]
  },
  {
   "cell_type": "code",
   "execution_count": null,
   "metadata": {},
   "outputs": [],
   "source": [
    "for dimension in ds.dims:\n",
    "    print(dimension)\n",
    "    if dimension in ds.variables:\n",
    "        print(dimension)\n",
    "        if ds.variables[dimension].dims == (dimension,):\n",
    "            print(dimension)\n",
    "    else:\n",
    "        print('no match')"
   ]
  },
  {
   "cell_type": "code",
   "execution_count": null,
   "metadata": {},
   "outputs": [],
   "source": [
    "dim_list = []\n",
    "for variable in ds.variables:\n",
    "    dim_list.append(ds.variables[variable].dims)\n",
    "print(np.unique(dim_list))"
   ]
  },
  {
   "cell_type": "code",
   "execution_count": null,
   "metadata": {},
   "outputs": [],
   "source": [
    "val_str = []\n",
    "for data_id in df['Dataset ID']:\n",
    "    e.dataset_id = data_id\n",
    "    ds = e.to_xarray(decode_times=False)\n",
    "    try:\n",
    "        val_str.append(ds.attrs['creator_insitution']) #'Conventions'\n",
    "    except KeyError:\n",
    "        try:\n",
    "            print(data_id, 'no creator_institution')\n",
    "            val_str.append(ds.attrs['institution'])\n",
    "        except KeyError:\n",
    "            print(data_id, 'no institution')"
   ]
  },
  {
   "cell_type": "code",
   "execution_count": null,
   "metadata": {},
   "outputs": [],
   "source": [
    "print(len(val_str))\n",
    "print(np.unique(val_str), len(np.unique(val_str)))"
   ]
  },
  {
   "cell_type": "code",
   "execution_count": null,
   "metadata": {},
   "outputs": [],
   "source": []
  },
  {
   "cell_type": "code",
   "execution_count": null,
   "metadata": {},
   "outputs": [],
   "source": [
    "for url in dataset_list[92:95]:\n",
    "    option = 'lenient'\n",
    "    filename= url.split('/')[-1]+'.txt'\n",
    "    dirname='compliance_checker_'+ option\n",
    "    !compliance-checker --test=acdd:1.3 --format=text --output=./$dirname/accd_report/$filename $url -c $option -v\n",
    "    !compliance-checker --test=cf:1.6 --format=text --output=./$dirname/cf_report/$filename $url -c $option -v\n",
    "   "
   ]
  },
  {
   "cell_type": "code",
   "execution_count": null,
   "metadata": {},
   "outputs": [],
   "source": [
    "!compliance-checker --test=cf:1.6 --format=text --output=./cf_report/test.txt \"http://erddap.maracoos.org/erddap/tabledap/cbp_CB2_2\" -c lenient -v"
   ]
  },
  {
   "cell_type": "code",
   "execution_count": null,
   "metadata": {},
   "outputs": [],
   "source": [
    "df_1=xr.open_dataset('/Users/leilabelabassi/Downloads/sp029-20200722T2029_627c_21a2_a3eb.nc')"
   ]
  },
  {
   "cell_type": "code",
   "execution_count": null,
   "metadata": {},
   "outputs": [],
   "source": [
    "df_1.attrs['Conventions']"
   ]
  },
  {
   "cell_type": "code",
   "execution_count": null,
   "metadata": {},
   "outputs": [],
   "source": [
    "!compliance-checker --test acdd:1.3 \"http://erddap.maracoos.org/erddap/tabledap/cbp_CB2_2\" -c lenient -v"
   ]
  },
  {
   "cell_type": "code",
   "execution_count": null,
   "metadata": {},
   "outputs": [],
   "source": [
    "!compliance-checker --test ioos:1.2 \"http://erddap.maracoos.org/erddap/tabledap/cbp_CB2_2\" -c lenient -v"
   ]
  },
  {
   "cell_type": "code",
   "execution_count": null,
   "metadata": {},
   "outputs": [],
   "source": []
  }
 ],
 "metadata": {
  "kernelspec": {
   "display_name": "Python 3",
   "language": "python",
   "name": "python3"
  },
  "language_info": {
   "codemirror_mode": {
    "name": "ipython",
    "version": 3
   },
   "file_extension": ".py",
   "mimetype": "text/x-python",
   "name": "python",
   "nbconvert_exporter": "python",
   "pygments_lexer": "ipython3",
   "version": "3.7.7"
  }
 },
 "nbformat": 4,
 "nbformat_minor": 4
}
